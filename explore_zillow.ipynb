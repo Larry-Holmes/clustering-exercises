{
 "cells": [
  {
   "cell_type": "code",
   "execution_count": 1,
   "id": "b8bf1574-cbea-4821-b6d7-4f9dedef70f3",
   "metadata": {},
   "outputs": [],
   "source": [
    "# ignore warnings\n",
    "import warnings\n",
    "warnings.filterwarnings(\"ignore\")\n",
    "\n",
    "# Wrangling\n",
    "import pandas as pd\n",
    "import numpy as np\n",
    "from sklearn.model_selection import train_test_split\n",
    "\n",
    "# Statistical Tests\n",
    "import scipy.stats as stats\n",
    "\n",
    "# Visualizing\n",
    "import matplotlib.pyplot as plt\n",
    "import seaborn as sns\n",
    "\n",
    "# py imports\n",
    "import wrangle_zillow"
   ]
  },
  {
   "cell_type": "code",
   "execution_count": 28,
   "id": "1a5931ac-c389-45ea-926d-694fade05855",
   "metadata": {},
   "outputs": [
    {
     "name": "stdout",
     "output_type": "stream",
     "text": [
      "--- Shape: (52441, 63)\n",
      "--- Info\n",
      "<class 'pandas.core.frame.DataFrame'>\n",
      "Int64Index: 52441 entries, 0 to 52440\n",
      "Data columns (total 63 columns):\n",
      " #   Column                        Non-Null Count  Dtype  \n",
      "---  ------                        --------------  -----  \n",
      " 0   propertylandusetypeid         52441 non-null  float64\n",
      " 1   parcelid                      52441 non-null  int64  \n",
      " 2   id                            52441 non-null  int64  \n",
      " 3   logerror                      52441 non-null  float64\n",
      " 4   transactiondate               52441 non-null  object \n",
      " 5   id.1                          52441 non-null  int64  \n",
      " 6   airconditioningtypeid         13638 non-null  float64\n",
      " 7   architecturalstyletypeid      70 non-null     float64\n",
      " 8   basementsqft                  47 non-null     float64\n",
      " 9   bathroomcnt                   52441 non-null  float64\n",
      " 10  bedroomcnt                    52441 non-null  float64\n",
      " 11  buildingclasstypeid           0 non-null      float64\n",
      " 12  buildingqualitytypeid         33740 non-null  float64\n",
      " 13  calculatedbathnbr             52304 non-null  float64\n",
      " 14  decktypeid                    389 non-null    float64\n",
      " 15  finishedfloor1squarefeet      4381 non-null   float64\n",
      " 16  calculatedfinishedsquarefeet  52359 non-null  float64\n",
      " 17  finishedsquarefeet12          52194 non-null  float64\n",
      " 18  finishedsquarefeet13          0 non-null      float64\n",
      " 19  finishedsquarefeet15          0 non-null      float64\n",
      " 20  finishedsquarefeet50          4381 non-null   float64\n",
      " 21  finishedsquarefeet6           165 non-null    float64\n",
      " 22  fips                          52441 non-null  float64\n",
      " 23  fireplacecnt                  7243 non-null   float64\n",
      " 24  fullbathcnt                   52304 non-null  float64\n",
      " 25  garagecarcnt                  18015 non-null  float64\n",
      " 26  garagetotalsqft               18015 non-null  float64\n",
      " 27  hashottuborspa                1515 non-null   float64\n",
      " 28  heatingorsystemtypeid         33935 non-null  float64\n",
      " 29  latitude                      52441 non-null  float64\n",
      " 30  longitude                     52441 non-null  float64\n",
      " 31  lotsizesquarefeet             52072 non-null  float64\n",
      " 32  poolcnt                       11096 non-null  float64\n",
      " 33  poolsizesum                   867 non-null    float64\n",
      " 34  pooltypeid10                  444 non-null    float64\n",
      " 35  pooltypeid2                   1071 non-null   float64\n",
      " 36  pooltypeid7                   10009 non-null  float64\n",
      " 37  propertycountylandusecode     52441 non-null  object \n",
      " 38  propertyzoningdesc            33848 non-null  object \n",
      " 39  rawcensustractandblock        52441 non-null  float64\n",
      " 40  regionidcity                  51404 non-null  float64\n",
      " 41  regionidcounty                52441 non-null  float64\n",
      " 42  regionidneighborhood          19033 non-null  float64\n",
      " 43  regionidzip                   52415 non-null  float64\n",
      " 44  roomcnt                       52441 non-null  float64\n",
      " 45  storytypeid                   47 non-null     float64\n",
      " 46  threequarterbathnbr           6724 non-null   float64\n",
      " 47  typeconstructiontypeid        76 non-null     float64\n",
      " 48  unitcnt                       33847 non-null  float64\n",
      " 49  yardbuildingsqft17            1937 non-null   float64\n",
      " 50  yardbuildingsqft26            63 non-null     float64\n",
      " 51  yearbuilt                     52325 non-null  float64\n",
      " 52  numberofstories               14561 non-null  float64\n",
      " 53  fireplaceflag                 81 non-null     float64\n",
      " 54  structuretaxvaluedollarcnt    52357 non-null  float64\n",
      " 55  taxvaluedollarcnt             52440 non-null  float64\n",
      " 56  assessmentyear                52441 non-null  float64\n",
      " 57  landtaxvaluedollarcnt         52440 non-null  float64\n",
      " 58  taxamount                     52437 non-null  float64\n",
      " 59  taxdelinquencyflag            2079 non-null   object \n",
      " 60  taxdelinquencyyear            2079 non-null   float64\n",
      " 61  censustractandblock           52318 non-null  float64\n",
      " 62  propertylandusedesc           52441 non-null  object \n",
      "dtypes: float64(55), int64(3), object(5)\n",
      "memory usage: 25.6+ MB\n",
      "--- Column Descriptions\n",
      "        propertylandusetypeid      parcelid            id      logerror  \\\n",
      "count                 52441.0  5.244100e+04  52441.000000  52441.000000   \n",
      "unique                    NaN           NaN           NaN           NaN   \n",
      "top                       NaN           NaN           NaN           NaN   \n",
      "freq                      NaN           NaN           NaN           NaN   \n",
      "mean                    261.0  1.299912e+07  38859.892946      0.018298   \n",
      "std                       0.0  3.411444e+06  22348.009638      0.177501   \n",
      "min                     261.0  1.071186e+07      0.000000     -4.655420   \n",
      "25%                     261.0  1.151022e+07  19546.000000     -0.024639   \n",
      "50%                     261.0  1.257764e+07  38927.000000      0.007011   \n",
      "75%                     261.0  1.412953e+07  58092.000000      0.040692   \n",
      "max                     261.0  1.676878e+08  77612.000000      5.262999   \n",
      "\n",
      "       transactiondate          id.1  airconditioningtypeid  \\\n",
      "count            52441  5.244100e+04           13638.000000   \n",
      "unique             257           NaN                    NaN   \n",
      "top         2017-06-30           NaN                    NaN   \n",
      "freq               810           NaN                    NaN   \n",
      "mean               NaN  1.497270e+06               2.438041   \n",
      "std                NaN  8.594393e+05               3.846176   \n",
      "min                NaN  3.490000e+02               1.000000   \n",
      "25%                NaN  7.579550e+05               1.000000   \n",
      "50%                NaN  1.500810e+06               1.000000   \n",
      "75%                NaN  2.241534e+06               1.000000   \n",
      "max                NaN  2.982270e+06              13.000000   \n",
      "\n",
      "        architecturalstyletypeid  basementsqft   bathroomcnt  ...  \\\n",
      "count                   70.00000     47.000000  52441.000000  ...   \n",
      "unique                       NaN           NaN           NaN  ...   \n",
      "top                          NaN           NaN           NaN  ...   \n",
      "freq                         NaN           NaN           NaN  ...   \n",
      "mean                     7.10000    678.978723      2.299403  ...   \n",
      "std                      2.66567    711.825226      1.022772  ...   \n",
      "min                      2.00000     38.000000      0.000000  ...   \n",
      "25%                      7.00000    263.500000      2.000000  ...   \n",
      "50%                      7.00000    512.000000      2.000000  ...   \n",
      "75%                      7.00000    809.500000      3.000000  ...   \n",
      "max                     21.00000   3560.000000     18.000000  ...   \n",
      "\n",
      "        fireplaceflag  structuretaxvaluedollarcnt  taxvaluedollarcnt  \\\n",
      "count            81.0                5.235700e+04       5.244000e+04   \n",
      "unique            NaN                         NaN                NaN   \n",
      "top               NaN                         NaN                NaN   \n",
      "freq              NaN                         NaN                NaN   \n",
      "mean              1.0                1.965338e+05       5.296882e+05   \n",
      "std               0.0                2.543401e+05       7.518946e+05   \n",
      "min               1.0                1.290000e+02       1.000000e+03   \n",
      "25%               1.0                7.707100e+04       1.937475e+05   \n",
      "50%               1.0                1.318110e+05       3.736120e+05   \n",
      "75%               1.0                2.263340e+05       6.193012e+05   \n",
      "max               1.0                9.164901e+06       4.906124e+07   \n",
      "\n",
      "        assessmentyear  landtaxvaluedollarcnt      taxamount  \\\n",
      "count          52441.0           5.244000e+04   52437.000000   \n",
      "unique             NaN                    NaN            NaN   \n",
      "top                NaN                    NaN            NaN   \n",
      "freq               NaN                    NaN            NaN   \n",
      "mean            2016.0           3.334655e+05    6453.511209   \n",
      "std                0.0           5.705278e+05    8755.568452   \n",
      "min             2016.0           1.610000e+02      49.180000   \n",
      "25%             2016.0           7.602075e+04    2656.220000   \n",
      "50%             2016.0           2.180320e+05    4647.740000   \n",
      "75%             2016.0           4.086068e+05    7377.500000   \n",
      "max             2016.0           4.895220e+07  586639.300000   \n",
      "\n",
      "        taxdelinquencyflag  taxdelinquencyyear  censustractandblock  \\\n",
      "count                 2079         2079.000000         5.231800e+04   \n",
      "unique                   1                 NaN                  NaN   \n",
      "top                      Y                 NaN                  NaN   \n",
      "freq                  2079                 NaN                  NaN   \n",
      "mean                   NaN           14.102453         6.050240e+13   \n",
      "std                    NaN            2.394972         1.859036e+12   \n",
      "min                    NaN            4.000000         6.037101e+13   \n",
      "25%                    NaN           14.000000         6.037401e+13   \n",
      "50%                    NaN           15.000000         6.037620e+13   \n",
      "75%                    NaN           15.000000         6.059042e+13   \n",
      "max                    NaN           99.000000         4.830301e+14   \n",
      "\n",
      "              propertylandusedesc  \n",
      "count                       52441  \n",
      "unique                          1  \n",
      "top     Single Family Residential  \n",
      "freq                        52441  \n",
      "mean                          NaN  \n",
      "std                           NaN  \n",
      "min                           NaN  \n",
      "25%                           NaN  \n",
      "50%                           NaN  \n",
      "75%                           NaN  \n",
      "max                           NaN  \n",
      "\n",
      "[11 rows x 63 columns]\n"
     ]
    }
   ],
   "source": [
    "df = wrangle_zillow.wrangle()"
   ]
  },
  {
   "cell_type": "code",
   "execution_count": 29,
   "id": "2059b8a2-6f7e-49b3-be28-f1656a83200d",
   "metadata": {},
   "outputs": [
    {
     "data": {
      "text/plain": [
       "6037.0    33899\n",
       "6059.0    14094\n",
       "6111.0     4383\n",
       "Name: fips, dtype: int64"
      ]
     },
     "execution_count": 29,
     "metadata": {},
     "output_type": "execute_result"
    }
   ],
   "source": [
    "df.fips.value_counts()"
   ]
  },
  {
   "cell_type": "code",
   "execution_count": 30,
   "id": "f4d30343-c725-4707-852f-783e6a1c5244",
   "metadata": {},
   "outputs": [],
   "source": [
    "df.drop(columns = ['buildingqualitytypeid','heatingorsystemtypeid','propertyzoningdesc','unitcnt'], inplace=True)"
   ]
  },
  {
   "cell_type": "code",
   "execution_count": 31,
   "id": "da7eba6a-740c-4370-b52e-f6dcdeba0d76",
   "metadata": {},
   "outputs": [
    {
     "data": {
      "text/html": [
       "<div>\n",
       "<style scoped>\n",
       "    .dataframe tbody tr th:only-of-type {\n",
       "        vertical-align: middle;\n",
       "    }\n",
       "\n",
       "    .dataframe tbody tr th {\n",
       "        vertical-align: top;\n",
       "    }\n",
       "\n",
       "    .dataframe thead th {\n",
       "        text-align: right;\n",
       "    }\n",
       "</style>\n",
       "<table border=\"1\" class=\"dataframe\">\n",
       "  <thead>\n",
       "    <tr style=\"text-align: right;\">\n",
       "      <th></th>\n",
       "      <th>propertylandusetypeid</th>\n",
       "      <th>parcelid</th>\n",
       "      <th>id</th>\n",
       "      <th>logerror</th>\n",
       "      <th>transactiondate</th>\n",
       "      <th>id.1</th>\n",
       "      <th>bathroomcnt</th>\n",
       "      <th>bedroomcnt</th>\n",
       "      <th>calculatedbathnbr</th>\n",
       "      <th>calculatedfinishedsquarefeet</th>\n",
       "      <th>...</th>\n",
       "      <th>regionidzip</th>\n",
       "      <th>roomcnt</th>\n",
       "      <th>yearbuilt</th>\n",
       "      <th>structuretaxvaluedollarcnt</th>\n",
       "      <th>taxvaluedollarcnt</th>\n",
       "      <th>assessmentyear</th>\n",
       "      <th>landtaxvaluedollarcnt</th>\n",
       "      <th>taxamount</th>\n",
       "      <th>censustractandblock</th>\n",
       "      <th>propertylandusedesc</th>\n",
       "    </tr>\n",
       "  </thead>\n",
       "  <tbody>\n",
       "    <tr>\n",
       "      <th>0</th>\n",
       "      <td>261.0</td>\n",
       "      <td>14297519</td>\n",
       "      <td>0</td>\n",
       "      <td>0.025595</td>\n",
       "      <td>2017-01-01</td>\n",
       "      <td>1727539</td>\n",
       "      <td>3.5</td>\n",
       "      <td>4.0</td>\n",
       "      <td>3.5</td>\n",
       "      <td>3100.0</td>\n",
       "      <td>...</td>\n",
       "      <td>96978.0</td>\n",
       "      <td>0.0</td>\n",
       "      <td>1998.0</td>\n",
       "      <td>485713.0</td>\n",
       "      <td>1023282.0</td>\n",
       "      <td>2016.0</td>\n",
       "      <td>537569.0</td>\n",
       "      <td>11013.72</td>\n",
       "      <td>6.059063e+13</td>\n",
       "      <td>Single Family Residential</td>\n",
       "    </tr>\n",
       "    <tr>\n",
       "      <th>1</th>\n",
       "      <td>261.0</td>\n",
       "      <td>17052889</td>\n",
       "      <td>1</td>\n",
       "      <td>0.055619</td>\n",
       "      <td>2017-01-01</td>\n",
       "      <td>1387261</td>\n",
       "      <td>1.0</td>\n",
       "      <td>2.0</td>\n",
       "      <td>1.0</td>\n",
       "      <td>1465.0</td>\n",
       "      <td>...</td>\n",
       "      <td>97099.0</td>\n",
       "      <td>5.0</td>\n",
       "      <td>1967.0</td>\n",
       "      <td>88000.0</td>\n",
       "      <td>464000.0</td>\n",
       "      <td>2016.0</td>\n",
       "      <td>376000.0</td>\n",
       "      <td>5672.48</td>\n",
       "      <td>6.111001e+13</td>\n",
       "      <td>Single Family Residential</td>\n",
       "    </tr>\n",
       "    <tr>\n",
       "      <th>2</th>\n",
       "      <td>261.0</td>\n",
       "      <td>14186244</td>\n",
       "      <td>2</td>\n",
       "      <td>0.005383</td>\n",
       "      <td>2017-01-01</td>\n",
       "      <td>11677</td>\n",
       "      <td>2.0</td>\n",
       "      <td>3.0</td>\n",
       "      <td>2.0</td>\n",
       "      <td>1243.0</td>\n",
       "      <td>...</td>\n",
       "      <td>97078.0</td>\n",
       "      <td>6.0</td>\n",
       "      <td>1962.0</td>\n",
       "      <td>85289.0</td>\n",
       "      <td>564778.0</td>\n",
       "      <td>2016.0</td>\n",
       "      <td>479489.0</td>\n",
       "      <td>6488.30</td>\n",
       "      <td>6.059022e+13</td>\n",
       "      <td>Single Family Residential</td>\n",
       "    </tr>\n",
       "    <tr>\n",
       "      <th>3</th>\n",
       "      <td>261.0</td>\n",
       "      <td>12177905</td>\n",
       "      <td>3</td>\n",
       "      <td>-0.103410</td>\n",
       "      <td>2017-01-01</td>\n",
       "      <td>2288172</td>\n",
       "      <td>3.0</td>\n",
       "      <td>4.0</td>\n",
       "      <td>3.0</td>\n",
       "      <td>2376.0</td>\n",
       "      <td>...</td>\n",
       "      <td>96330.0</td>\n",
       "      <td>0.0</td>\n",
       "      <td>1970.0</td>\n",
       "      <td>108918.0</td>\n",
       "      <td>145143.0</td>\n",
       "      <td>2016.0</td>\n",
       "      <td>36225.0</td>\n",
       "      <td>1777.51</td>\n",
       "      <td>6.037300e+13</td>\n",
       "      <td>Single Family Residential</td>\n",
       "    </tr>\n",
       "    <tr>\n",
       "      <th>4</th>\n",
       "      <td>261.0</td>\n",
       "      <td>12095076</td>\n",
       "      <td>6</td>\n",
       "      <td>-0.001011</td>\n",
       "      <td>2017-01-01</td>\n",
       "      <td>781532</td>\n",
       "      <td>3.0</td>\n",
       "      <td>4.0</td>\n",
       "      <td>3.0</td>\n",
       "      <td>2962.0</td>\n",
       "      <td>...</td>\n",
       "      <td>96293.0</td>\n",
       "      <td>0.0</td>\n",
       "      <td>1950.0</td>\n",
       "      <td>276684.0</td>\n",
       "      <td>773303.0</td>\n",
       "      <td>2016.0</td>\n",
       "      <td>496619.0</td>\n",
       "      <td>9516.26</td>\n",
       "      <td>6.037461e+13</td>\n",
       "      <td>Single Family Residential</td>\n",
       "    </tr>\n",
       "  </tbody>\n",
       "</table>\n",
       "<p>5 rows × 30 columns</p>\n",
       "</div>"
      ],
      "text/plain": [
       "   propertylandusetypeid  parcelid  id  logerror transactiondate     id.1  \\\n",
       "0                  261.0  14297519   0  0.025595      2017-01-01  1727539   \n",
       "1                  261.0  17052889   1  0.055619      2017-01-01  1387261   \n",
       "2                  261.0  14186244   2  0.005383      2017-01-01    11677   \n",
       "3                  261.0  12177905   3 -0.103410      2017-01-01  2288172   \n",
       "4                  261.0  12095076   6 -0.001011      2017-01-01   781532   \n",
       "\n",
       "   bathroomcnt  bedroomcnt  calculatedbathnbr  calculatedfinishedsquarefeet  \\\n",
       "0          3.5         4.0                3.5                        3100.0   \n",
       "1          1.0         2.0                1.0                        1465.0   \n",
       "2          2.0         3.0                2.0                        1243.0   \n",
       "3          3.0         4.0                3.0                        2376.0   \n",
       "4          3.0         4.0                3.0                        2962.0   \n",
       "\n",
       "   ...  regionidzip  roomcnt  yearbuilt  structuretaxvaluedollarcnt  \\\n",
       "0  ...      96978.0      0.0     1998.0                    485713.0   \n",
       "1  ...      97099.0      5.0     1967.0                     88000.0   \n",
       "2  ...      97078.0      6.0     1962.0                     85289.0   \n",
       "3  ...      96330.0      0.0     1970.0                    108918.0   \n",
       "4  ...      96293.0      0.0     1950.0                    276684.0   \n",
       "\n",
       "   taxvaluedollarcnt  assessmentyear landtaxvaluedollarcnt  taxamount  \\\n",
       "0          1023282.0          2016.0              537569.0   11013.72   \n",
       "1           464000.0          2016.0              376000.0    5672.48   \n",
       "2           564778.0          2016.0              479489.0    6488.30   \n",
       "3           145143.0          2016.0               36225.0    1777.51   \n",
       "4           773303.0          2016.0              496619.0    9516.26   \n",
       "\n",
       "   censustractandblock        propertylandusedesc  \n",
       "0         6.059063e+13  Single Family Residential  \n",
       "1         6.111001e+13  Single Family Residential  \n",
       "2         6.059022e+13  Single Family Residential  \n",
       "3         6.037300e+13  Single Family Residential  \n",
       "4         6.037461e+13  Single Family Residential  \n",
       "\n",
       "[5 rows x 30 columns]"
      ]
     },
     "execution_count": 31,
     "metadata": {},
     "output_type": "execute_result"
    }
   ],
   "source": [
    "df.head()"
   ]
  },
  {
   "cell_type": "code",
   "execution_count": 32,
   "id": "c344dfdd-1b3b-43d8-954a-42284fcea490",
   "metadata": {},
   "outputs": [
    {
     "data": {
      "text/plain": [
       "propertylandusetypeid              0\n",
       "parcelid                           0\n",
       "id                                 0\n",
       "logerror                           0\n",
       "transactiondate                    0\n",
       "id.1                               0\n",
       "bathroomcnt                        0\n",
       "bedroomcnt                         0\n",
       "calculatedbathnbr                 72\n",
       "calculatedfinishedsquarefeet      17\n",
       "finishedsquarefeet12             182\n",
       "fips                               0\n",
       "fullbathcnt                       72\n",
       "latitude                           0\n",
       "longitude                          0\n",
       "lotsizesquarefeet                360\n",
       "propertycountylandusecode          0\n",
       "rawcensustractandblock             0\n",
       "regionidcity                    1031\n",
       "regionidcounty                     0\n",
       "regionidzip                       23\n",
       "roomcnt                            0\n",
       "yearbuilt                         51\n",
       "structuretaxvaluedollarcnt        76\n",
       "taxvaluedollarcnt                  1\n",
       "assessmentyear                     0\n",
       "landtaxvaluedollarcnt              1\n",
       "taxamount                          4\n",
       "censustractandblock              114\n",
       "propertylandusedesc                0\n",
       "dtype: int64"
      ]
     },
     "execution_count": 32,
     "metadata": {},
     "output_type": "execute_result"
    }
   ],
   "source": [
    "df.isnull().sum()"
   ]
  },
  {
   "cell_type": "code",
   "execution_count": 33,
   "id": "52ab4aab-5296-4d8c-b9ea-2e84139f275a",
   "metadata": {},
   "outputs": [
    {
     "data": {
      "text/html": [
       "<div>\n",
       "<style scoped>\n",
       "    .dataframe tbody tr th:only-of-type {\n",
       "        vertical-align: middle;\n",
       "    }\n",
       "\n",
       "    .dataframe tbody tr th {\n",
       "        vertical-align: top;\n",
       "    }\n",
       "\n",
       "    .dataframe thead th {\n",
       "        text-align: right;\n",
       "    }\n",
       "</style>\n",
       "<table border=\"1\" class=\"dataframe\">\n",
       "  <thead>\n",
       "    <tr style=\"text-align: right;\">\n",
       "      <th></th>\n",
       "      <th>min</th>\n",
       "      <th>mean</th>\n",
       "      <th>max</th>\n",
       "    </tr>\n",
       "    <tr>\n",
       "      <th>fips</th>\n",
       "      <th></th>\n",
       "      <th></th>\n",
       "      <th></th>\n",
       "    </tr>\n",
       "  </thead>\n",
       "  <tbody>\n",
       "    <tr>\n",
       "      <th>6037.0</th>\n",
       "      <td>1878.0</td>\n",
       "      <td>1957.201446</td>\n",
       "      <td>2016.0</td>\n",
       "    </tr>\n",
       "    <tr>\n",
       "      <th>6059.0</th>\n",
       "      <td>1893.0</td>\n",
       "      <td>1974.330754</td>\n",
       "      <td>2015.0</td>\n",
       "    </tr>\n",
       "    <tr>\n",
       "      <th>6111.0</th>\n",
       "      <td>1880.0</td>\n",
       "      <td>1976.181922</td>\n",
       "      <td>2016.0</td>\n",
       "    </tr>\n",
       "  </tbody>\n",
       "</table>\n",
       "</div>"
      ],
      "text/plain": [
       "           min         mean     max\n",
       "fips                               \n",
       "6037.0  1878.0  1957.201446  2016.0\n",
       "6059.0  1893.0  1974.330754  2015.0\n",
       "6111.0  1880.0  1976.181922  2016.0"
      ]
     },
     "execution_count": 33,
     "metadata": {},
     "output_type": "execute_result"
    }
   ],
   "source": [
    "df.groupby('fips').yearbuilt.agg(['min','mean','max'])"
   ]
  },
  {
   "cell_type": "code",
   "execution_count": 34,
   "id": "9efbf6c5-73b6-4699-8a45-acd61e1d5079",
   "metadata": {},
   "outputs": [],
   "source": [
    "los_angeles= df[df.fips == 6037]"
   ]
  },
  {
   "cell_type": "code",
   "execution_count": 35,
   "id": "d09853a5-48b2-48a6-821b-ef6490e02c90",
   "metadata": {},
   "outputs": [
    {
     "data": {
      "text/plain": [
       "(33899, 30)"
      ]
     },
     "execution_count": 35,
     "metadata": {},
     "output_type": "execute_result"
    }
   ],
   "source": [
    "los_angeles.shape"
   ]
  },
  {
   "cell_type": "code",
   "execution_count": 36,
   "id": "9a39e16a-2b69-475b-a6a6-61fe414d0f90",
   "metadata": {},
   "outputs": [
    {
     "data": {
      "text/plain": [
       "(14094, 30)"
      ]
     },
     "execution_count": 36,
     "metadata": {},
     "output_type": "execute_result"
    }
   ],
   "source": [
    "orange = df[df.fips == 6059]\n",
    "orange.shape"
   ]
  },
  {
   "cell_type": "code",
   "execution_count": 37,
   "id": "af0456a6-f7d7-45d2-95a3-32a2ed14bba2",
   "metadata": {},
   "outputs": [
    {
     "data": {
      "text/plain": [
       "(4383, 30)"
      ]
     },
     "execution_count": 37,
     "metadata": {},
     "output_type": "execute_result"
    }
   ],
   "source": [
    "ventura = df[df.fips == 6111]\n",
    "ventura.shape"
   ]
  },
  {
   "cell_type": "code",
   "execution_count": 38,
   "id": "7a630adb-a518-424d-afc5-3f74f163265b",
   "metadata": {},
   "outputs": [],
   "source": [
    "los_angeles = wrangle_zillow.remove_outliers(los_angeles, 1.5, ['calculatedbathnbr','calculatedfinishedsquarefeet','finishedsquarefeet12','fullbathcnt','lotsizesquarefeet',\\\n",
    "                                              'regionidcity','regionidzip','yearbuilt','structuretaxvaluedollarcnt','censustractandblock'])"
   ]
  },
  {
   "cell_type": "code",
   "execution_count": 39,
   "id": "16d3a601-ac4b-4bb4-b17a-084ddfb4abc0",
   "metadata": {},
   "outputs": [
    {
     "data": {
      "text/plain": [
       "(19925, 30)"
      ]
     },
     "execution_count": 39,
     "metadata": {},
     "output_type": "execute_result"
    }
   ],
   "source": [
    "los_angeles.shape"
   ]
  },
  {
   "cell_type": "code",
   "execution_count": 40,
   "id": "a137d2e7-45b9-47a5-bb9a-9fb61c4a7be3",
   "metadata": {},
   "outputs": [],
   "source": [
    "orange = wrangle_zillow.remove_outliers(orange, 1.5, ['calculatedbathnbr','calculatedfinishedsquarefeet','finishedsquarefeet12','fullbathcnt','lotsizesquarefeet',\\\n",
    "                                              'regionidcity','regionidzip','yearbuilt','structuretaxvaluedollarcnt','censustractandblock'])"
   ]
  },
  {
   "cell_type": "code",
   "execution_count": 41,
   "id": "d2336e92-b24a-4d3e-a795-520761013248",
   "metadata": {},
   "outputs": [
    {
     "data": {
      "text/plain": [
       "(10024, 30)"
      ]
     },
     "execution_count": 41,
     "metadata": {},
     "output_type": "execute_result"
    }
   ],
   "source": [
    "orange.shape"
   ]
  },
  {
   "cell_type": "code",
   "execution_count": 42,
   "id": "baf9cfa8-abf1-4d86-8e53-c642259ad6ad",
   "metadata": {},
   "outputs": [],
   "source": [
    "ventura = wrangle_zillow.remove_outliers(ventura, 1.5, ['calculatedbathnbr','calculatedfinishedsquarefeet','finishedsquarefeet12','fullbathcnt','lotsizesquarefeet',\\\n",
    "                                              'regionidcity','regionidzip','yearbuilt','structuretaxvaluedollarcnt','censustractandblock'])"
   ]
  },
  {
   "cell_type": "code",
   "execution_count": 43,
   "id": "13c4608b-a8ee-46a8-b626-d071b15be6f7",
   "metadata": {},
   "outputs": [
    {
     "data": {
      "text/plain": [
       "(2239, 30)"
      ]
     },
     "execution_count": 43,
     "metadata": {},
     "output_type": "execute_result"
    }
   ],
   "source": [
    "ventura.shape"
   ]
  },
  {
   "cell_type": "code",
   "execution_count": 44,
   "id": "03f8d61b-3058-4d7b-88e4-af6e06cf2d68",
   "metadata": {},
   "outputs": [],
   "source": [
    "df = pd.concat([los_angeles, orange, ventura], axis=0, join='outer')"
   ]
  },
  {
   "cell_type": "code",
   "execution_count": 45,
   "id": "1afa6b99-11bd-480e-8c13-96993c7ce0db",
   "metadata": {},
   "outputs": [
    {
     "data": {
      "text/html": [
       "<div>\n",
       "<style scoped>\n",
       "    .dataframe tbody tr th:only-of-type {\n",
       "        vertical-align: middle;\n",
       "    }\n",
       "\n",
       "    .dataframe tbody tr th {\n",
       "        vertical-align: top;\n",
       "    }\n",
       "\n",
       "    .dataframe thead th {\n",
       "        text-align: right;\n",
       "    }\n",
       "</style>\n",
       "<table border=\"1\" class=\"dataframe\">\n",
       "  <thead>\n",
       "    <tr style=\"text-align: right;\">\n",
       "      <th></th>\n",
       "      <th>propertylandusetypeid</th>\n",
       "      <th>parcelid</th>\n",
       "      <th>id</th>\n",
       "      <th>logerror</th>\n",
       "      <th>transactiondate</th>\n",
       "      <th>id.1</th>\n",
       "      <th>bathroomcnt</th>\n",
       "      <th>bedroomcnt</th>\n",
       "      <th>calculatedbathnbr</th>\n",
       "      <th>calculatedfinishedsquarefeet</th>\n",
       "      <th>...</th>\n",
       "      <th>regionidzip</th>\n",
       "      <th>roomcnt</th>\n",
       "      <th>yearbuilt</th>\n",
       "      <th>structuretaxvaluedollarcnt</th>\n",
       "      <th>taxvaluedollarcnt</th>\n",
       "      <th>assessmentyear</th>\n",
       "      <th>landtaxvaluedollarcnt</th>\n",
       "      <th>taxamount</th>\n",
       "      <th>censustractandblock</th>\n",
       "      <th>propertylandusedesc</th>\n",
       "    </tr>\n",
       "  </thead>\n",
       "  <tbody>\n",
       "    <tr>\n",
       "      <th>5</th>\n",
       "      <td>261.0</td>\n",
       "      <td>12069064</td>\n",
       "      <td>7</td>\n",
       "      <td>0.101723</td>\n",
       "      <td>2017-01-01</td>\n",
       "      <td>870991</td>\n",
       "      <td>1.0</td>\n",
       "      <td>2.0</td>\n",
       "      <td>1.0</td>\n",
       "      <td>738.0</td>\n",
       "      <td>...</td>\n",
       "      <td>96325.0</td>\n",
       "      <td>0.0</td>\n",
       "      <td>1922.0</td>\n",
       "      <td>18890.0</td>\n",
       "      <td>218552.0</td>\n",
       "      <td>2016.0</td>\n",
       "      <td>199662.0</td>\n",
       "      <td>2366.08</td>\n",
       "      <td>6.037302e+13</td>\n",
       "      <td>Single Family Residential</td>\n",
       "    </tr>\n",
       "    <tr>\n",
       "      <th>11</th>\n",
       "      <td>261.0</td>\n",
       "      <td>11830315</td>\n",
       "      <td>18</td>\n",
       "      <td>-0.035085</td>\n",
       "      <td>2017-01-02</td>\n",
       "      <td>571930</td>\n",
       "      <td>1.0</td>\n",
       "      <td>2.0</td>\n",
       "      <td>1.0</td>\n",
       "      <td>1146.0</td>\n",
       "      <td>...</td>\n",
       "      <td>96003.0</td>\n",
       "      <td>0.0</td>\n",
       "      <td>1939.0</td>\n",
       "      <td>127960.0</td>\n",
       "      <td>273745.0</td>\n",
       "      <td>2016.0</td>\n",
       "      <td>145785.0</td>\n",
       "      <td>3739.02</td>\n",
       "      <td>6.037532e+13</td>\n",
       "      <td>Single Family Residential</td>\n",
       "    </tr>\n",
       "    <tr>\n",
       "      <th>15</th>\n",
       "      <td>261.0</td>\n",
       "      <td>12531488</td>\n",
       "      <td>25</td>\n",
       "      <td>0.042041</td>\n",
       "      <td>2017-01-02</td>\n",
       "      <td>1723297</td>\n",
       "      <td>1.0</td>\n",
       "      <td>3.0</td>\n",
       "      <td>1.0</td>\n",
       "      <td>1641.0</td>\n",
       "      <td>...</td>\n",
       "      <td>96237.0</td>\n",
       "      <td>0.0</td>\n",
       "      <td>1944.0</td>\n",
       "      <td>98038.0</td>\n",
       "      <td>432754.0</td>\n",
       "      <td>2016.0</td>\n",
       "      <td>334716.0</td>\n",
       "      <td>5212.75</td>\n",
       "      <td>6.037578e+13</td>\n",
       "      <td>Single Family Residential</td>\n",
       "    </tr>\n",
       "    <tr>\n",
       "      <th>17</th>\n",
       "      <td>261.0</td>\n",
       "      <td>11130689</td>\n",
       "      <td>27</td>\n",
       "      <td>0.020110</td>\n",
       "      <td>2017-01-02</td>\n",
       "      <td>1718341</td>\n",
       "      <td>2.0</td>\n",
       "      <td>3.0</td>\n",
       "      <td>2.0</td>\n",
       "      <td>1538.0</td>\n",
       "      <td>...</td>\n",
       "      <td>96352.0</td>\n",
       "      <td>0.0</td>\n",
       "      <td>1972.0</td>\n",
       "      <td>222238.0</td>\n",
       "      <td>401399.0</td>\n",
       "      <td>2016.0</td>\n",
       "      <td>179161.0</td>\n",
       "      <td>5438.41</td>\n",
       "      <td>6.037920e+13</td>\n",
       "      <td>Single Family Residential</td>\n",
       "    </tr>\n",
       "    <tr>\n",
       "      <th>18</th>\n",
       "      <td>261.0</td>\n",
       "      <td>12036177</td>\n",
       "      <td>28</td>\n",
       "      <td>0.206470</td>\n",
       "      <td>2017-01-02</td>\n",
       "      <td>707014</td>\n",
       "      <td>2.0</td>\n",
       "      <td>3.0</td>\n",
       "      <td>2.0</td>\n",
       "      <td>1851.0</td>\n",
       "      <td>...</td>\n",
       "      <td>96008.0</td>\n",
       "      <td>0.0</td>\n",
       "      <td>1920.0</td>\n",
       "      <td>32264.0</td>\n",
       "      <td>85035.0</td>\n",
       "      <td>2016.0</td>\n",
       "      <td>52771.0</td>\n",
       "      <td>1232.08</td>\n",
       "      <td>6.037189e+13</td>\n",
       "      <td>Single Family Residential</td>\n",
       "    </tr>\n",
       "  </tbody>\n",
       "</table>\n",
       "<p>5 rows × 30 columns</p>\n",
       "</div>"
      ],
      "text/plain": [
       "    propertylandusetypeid  parcelid  id  logerror transactiondate     id.1  \\\n",
       "5                   261.0  12069064   7  0.101723      2017-01-01   870991   \n",
       "11                  261.0  11830315  18 -0.035085      2017-01-02   571930   \n",
       "15                  261.0  12531488  25  0.042041      2017-01-02  1723297   \n",
       "17                  261.0  11130689  27  0.020110      2017-01-02  1718341   \n",
       "18                  261.0  12036177  28  0.206470      2017-01-02   707014   \n",
       "\n",
       "    bathroomcnt  bedroomcnt  calculatedbathnbr  calculatedfinishedsquarefeet  \\\n",
       "5           1.0         2.0                1.0                         738.0   \n",
       "11          1.0         2.0                1.0                        1146.0   \n",
       "15          1.0         3.0                1.0                        1641.0   \n",
       "17          2.0         3.0                2.0                        1538.0   \n",
       "18          2.0         3.0                2.0                        1851.0   \n",
       "\n",
       "    ...  regionidzip  roomcnt  yearbuilt  structuretaxvaluedollarcnt  \\\n",
       "5   ...      96325.0      0.0     1922.0                     18890.0   \n",
       "11  ...      96003.0      0.0     1939.0                    127960.0   \n",
       "15  ...      96237.0      0.0     1944.0                     98038.0   \n",
       "17  ...      96352.0      0.0     1972.0                    222238.0   \n",
       "18  ...      96008.0      0.0     1920.0                     32264.0   \n",
       "\n",
       "    taxvaluedollarcnt  assessmentyear landtaxvaluedollarcnt  taxamount  \\\n",
       "5            218552.0          2016.0              199662.0    2366.08   \n",
       "11           273745.0          2016.0              145785.0    3739.02   \n",
       "15           432754.0          2016.0              334716.0    5212.75   \n",
       "17           401399.0          2016.0              179161.0    5438.41   \n",
       "18            85035.0          2016.0               52771.0    1232.08   \n",
       "\n",
       "    censustractandblock        propertylandusedesc  \n",
       "5          6.037302e+13  Single Family Residential  \n",
       "11         6.037532e+13  Single Family Residential  \n",
       "15         6.037578e+13  Single Family Residential  \n",
       "17         6.037920e+13  Single Family Residential  \n",
       "18         6.037189e+13  Single Family Residential  \n",
       "\n",
       "[5 rows x 30 columns]"
      ]
     },
     "execution_count": 45,
     "metadata": {},
     "output_type": "execute_result"
    }
   ],
   "source": [
    "df.head()"
   ]
  },
  {
   "cell_type": "code",
   "execution_count": 46,
   "id": "678a8110-a455-4ce4-abd6-617518a2005b",
   "metadata": {},
   "outputs": [
    {
     "data": {
      "text/plain": [
       "6037.0    19925\n",
       "6059.0    10024\n",
       "6111.0     2239\n",
       "Name: fips, dtype: int64"
      ]
     },
     "execution_count": 46,
     "metadata": {},
     "output_type": "execute_result"
    }
   ],
   "source": [
    "df.fips.value_counts()"
   ]
  },
  {
   "cell_type": "code",
   "execution_count": 47,
   "id": "4d32582e-eecc-4eb1-aee0-f7cbb3681af3",
   "metadata": {},
   "outputs": [
    {
     "data": {
      "text/plain": [
       "Index(['propertylandusetypeid', 'parcelid', 'id', 'logerror',\n",
       "       'transactiondate', 'id.1', 'bathroomcnt', 'bedroomcnt',\n",
       "       'calculatedbathnbr', 'calculatedfinishedsquarefeet',\n",
       "       'finishedsquarefeet12', 'fips', 'fullbathcnt', 'latitude', 'longitude',\n",
       "       'lotsizesquarefeet', 'propertycountylandusecode',\n",
       "       'rawcensustractandblock', 'regionidcity', 'regionidcounty',\n",
       "       'regionidzip', 'roomcnt', 'yearbuilt', 'structuretaxvaluedollarcnt',\n",
       "       'taxvaluedollarcnt', 'assessmentyear', 'landtaxvaluedollarcnt',\n",
       "       'taxamount', 'censustractandblock', 'propertylandusedesc'],\n",
       "      dtype='object')"
      ]
     },
     "execution_count": 47,
     "metadata": {},
     "output_type": "execute_result"
    }
   ],
   "source": [
    "df.columns"
   ]
  },
  {
   "cell_type": "code",
   "execution_count": 50,
   "id": "83137b20-b010-4ef0-95d9-f2ba0389e440",
   "metadata": {},
   "outputs": [],
   "source": [
    "df.fips = df.fips.replace({6037:'la', 6059: 'orange', 6111: 'ventura'})"
   ]
  },
  {
   "cell_type": "code",
   "execution_count": 51,
   "id": "7a391c4a-2565-445a-9d11-a0c5931ace64",
   "metadata": {},
   "outputs": [
    {
     "data": {
      "text/plain": [
       "5             la\n",
       "11            la\n",
       "15            la\n",
       "17            la\n",
       "18            la\n",
       "          ...   \n",
       "51866    ventura\n",
       "51885    ventura\n",
       "51886    ventura\n",
       "51891    ventura\n",
       "52438    ventura\n",
       "Name: fips, Length: 32188, dtype: object"
      ]
     },
     "execution_count": 51,
     "metadata": {},
     "output_type": "execute_result"
    }
   ],
   "source": [
    "df.fips"
   ]
  },
  {
   "cell_type": "code",
   "execution_count": 52,
   "id": "2e730114-571a-4e7d-9a10-33195f551cf1",
   "metadata": {},
   "outputs": [
    {
     "name": "stdout",
     "output_type": "stream",
     "text": [
      "train -> (18025, 30)\n",
      "validate -> (7725, 30)\n",
      "test -> (6438, 30)\n"
     ]
    }
   ],
   "source": [
    "train, validate, test = wrangle_zillow.split_continuous(df)"
   ]
  },
  {
   "cell_type": "code",
   "execution_count": 53,
   "id": "31809cf1-be20-47f1-b505-8e97d4c3e039",
   "metadata": {},
   "outputs": [
    {
     "data": {
      "text/plain": [
       "42454        la\n",
       "23911    orange\n",
       "12118        la\n",
       "6480     orange\n",
       "27104        la\n",
       "          ...  \n",
       "2565     orange\n",
       "30531    orange\n",
       "41170        la\n",
       "14551        la\n",
       "4523     orange\n",
       "Name: fips, Length: 18025, dtype: object"
      ]
     },
     "execution_count": 53,
     "metadata": {},
     "output_type": "execute_result"
    }
   ],
   "source": [
    "train.fips"
   ]
  },
  {
   "cell_type": "code",
   "execution_count": 54,
   "id": "05e5b951-e67d-4af2-acc8-a9067704be23",
   "metadata": {},
   "outputs": [
    {
     "data": {
      "image/png": "[encoded data removed]",
      "text/plain": [
       "<Figure size 432x288 with 1 Axes>"
      ]
     },
     "metadata": {
      "needs_background": "light"
     },
     "output_type": "display_data"
    },
    {
     "data": {
      "image/png": "[encoded data removed]",
      "text/plain": [
       "<Figure size 432x288 with 1 Axes>"
      ]
     },
     "metadata": {
      "needs_background": "light"
     },
     "output_type": "display_data"
    },
    {
     "data": {
      "image/png": "[encoded data removed]",
      "text/plain": [
       "<Figure size 432x288 with 1 Axes>"
      ]
     },
     "metadata": {
      "needs_background": "light"
     },
     "output_type": "display_data"
    },
    {
     "data": {
      "image/png": "[encoded data removed]",
      "text/plain": [
       "<Figure size 432x288 with 1 Axes>"
      ]
     },
     "metadata": {
      "needs_background": "light"
     },
     "output_type": "display_data"
    },
    {
     "data": {
      "image/png": "[encoded data removed]",
      "text/plain": [
       "<Figure size 432x288 with 1 Axes>"
      ]
     },
     "metadata": {
      "needs_background": "light"
     },
     "output_type": "display_data"
    },
    {
     "data": {
      "image/png": "[encoded data removed]",
      "text/plain": [
       "<Figure size 432x288 with 1 Axes>"
      ]
     },
     "metadata": {
      "needs_background": "light"
     },
     "output_type": "display_data"
    },
    {
     "data": {
      "image/png": "[encoded data removed]",
      "text/plain": [
       "<Figure size 432x288 with 1 Axes>"
      ]
     },
     "metadata": {
      "needs_background": "light"
     },
     "output_type": "display_data"
    },
    {
     "data": {
      "image/png": "[encoded data removed]",
      "text/plain": [
       "<Figure size 432x288 with 1 Axes>"
      ]
     },
     "metadata": {
      "needs_background": "light"
     },
     "output_type": "display_data"
    },
    {
     "data": {
      "image/png": "[encoded data removed]",
      "text/plain": [
       "<Figure size 432x288 with 1 Axes>"
      ]
     },
     "metadata": {
      "needs_background": "light"
     },
     "output_type": "display_data"
    },
    {
     "data": {
      "image/png": "[encoded data removed]",
      "text/plain": [
       "<Figure size 432x288 with 1 Axes>"
      ]
     },
     "metadata": {
      "needs_background": "light"
     },
     "output_type": "display_data"
    },
    {
     "data": {
      "image/png": "[encoded data removed]",
      "text/plain": [
       "<Figure size 432x288 with 1 Axes>"
      ]
     },
     "metadata": {
      "needs_background": "light"
     },
     "output_type": "display_data"
    },
    {
     "data": {
      "image/png": "[encoded data removed]",
      "text/plain": [
       "<Figure size 432x288 with 1 Axes>"
      ]
     },
     "metadata": {
      "needs_background": "light"
     },
     "output_type": "display_data"
    },
    {
     "data": {
      "image/png": "[encoded data removed]",
      "text/plain": [
       "<Figure size 432x288 with 1 Axes>"
      ]
     },
     "metadata": {
      "needs_background": "light"
     },
     "output_type": "display_data"
    },
    {
     "data": {
      "image/png": "[encoded data removed]",
      "text/plain": [
       "<Figure size 432x288 with 1 Axes>"
      ]
     },
     "metadata": {
      "needs_background": "light"
     },
     "output_type": "display_data"
    },
    {
     "data": {
      "image/png": "[encoded data removed]",
      "text/plain": [
       "<Figure size 432x288 with 1 Axes>"
      ]
     },
     "metadata": {
      "needs_background": "light"
     },
     "output_type": "display_data"
    },
    {
     "data": {
      "image/png": "[encoded data removed]",
      "text/plain": [
       "<Figure size 432x288 with 1 Axes>"
      ]
     },
     "metadata": {
      "needs_background": "light"
     },
     "output_type": "display_data"
    },
    {
     "data": {
      "image/png": "[encoded data removed]",
      "text/plain": [
       "<Figure size 432x288 with 1 Axes>"
      ]
     },
     "metadata": {
      "needs_background": "light"
     },
     "output_type": "display_data"
    },
    {
     "data": {
      "image/png": "[encoded data removed]",
      "text/plain": [
       "<Figure size 432x288 with 1 Axes>"
      ]
     },
     "metadata": {
      "needs_background": "light"
     },
     "output_type": "display_data"
    },
    {
     "data": {
      "image/png": "[encoded data removed]",
      "text/plain": [
       "<Figure size 432x288 with 1 Axes>"
      ]
     },
     "metadata": {
      "needs_background": "light"
     },
     "output_type": "display_data"
    },
    {
     "data": {
      "image/png": "[encoded data removed]",
      "text/plain": [
       "<Figure size 432x288 with 1 Axes>"
      ]
     },
     "metadata": {
      "needs_background": "light"
     },
     "output_type": "display_data"
    },
    {
     "data": {
      "image/png": "[encoded data removed]",
      "text/plain": [
       "<Figure size 432x288 with 1 Axes>"
      ]
     },
     "metadata": {
      "needs_background": "light"
     },
     "output_type": "display_data"
    },
    {
     "data": {
      "image/png": "[encoded data removed]",
      "text/plain": [
       "<Figure size 432x288 with 1 Axes>"
      ]
     },
     "metadata": {
      "needs_background": "light"
     },
     "output_type": "display_data"
    },
    {
     "data": {
      "image/png": "[encoded data removed]",
      "text/plain": [
       "<Figure size 432x288 with 1 Axes>"
      ]
     },
     "metadata": {
      "needs_background": "light"
     },
     "output_type": "display_data"
    },
    {
     "data": {
      "image/png": "[encoded data removed]",
      "text/plain": [
       "<Figure size 432x288 with 1 Axes>"
      ]
     },
     "metadata": {
      "needs_background": "light"
     },
     "output_type": "display_data"
    },
    {
     "data": {
      "image/png": "[encoded data removed]",
      "text/plain": [
       "<Figure size 432x288 with 1 Axes>"
      ]
     },
     "metadata": {
      "needs_background": "light"
     },
     "output_type": "display_data"
    },
    {
     "data": {
      "image/png": "[encoded data removed]",
      "text/plain": [
       "<Figure size 432x288 with 1 Axes>"
      ]
     },
     "metadata": {
      "needs_background": "light"
     },
     "output_type": "display_data"
    },
    {
     "data": {
      "image/png": "[encoded data removed]",
      "text/plain": [
       "<Figure size 432x288 with 1 Axes>"
      ]
     },
     "metadata": {
      "needs_background": "light"
     },
     "output_type": "display_data"
    },
    {
     "data": {
      "image/png": "[encoded data removed]",
      "text/plain": [
       "<Figure size 432x288 with 1 Axes>"
      ]
     },
     "metadata": {
      "needs_background": "light"
     },
     "output_type": "display_data"
    },
    {
     "data": {
      "image/png": "[encoded data removed]",
      "text/plain": [
       "<Figure size 432x288 with 1 Axes>"
      ]
     },
     "metadata": {
      "needs_background": "light"
     },
     "output_type": "display_data"
    },
    {
     "data": {
      "image/png": "[encoded data removed]",
      "text/plain": [
       "<Figure size 432x288 with 1 Axes>"
      ]
     },
     "metadata": {
      "needs_background": "light"
     },
     "output_type": "display_data"
    }
   ],
   "source": [
    "for col in df.columns:\n",
    "    df[col].hist()\n",
    "    plt.title(col)\n",
    "    plt.show()"
   ]
  },
  {
   "cell_type": "markdown",
   "id": "53cb226a-de46-405f-8500-77d077164bad",
   "metadata": {},
   "source": [
    "## Is logerror significantly different for properties in LA County vs Orange County vs Ventura County?"
   ]
  },
  {
   "cell_type": "code",
   "execution_count": 55,
   "id": "3add484a-6b91-4525-bbf9-c8b6f374cdba",
   "metadata": {},
   "outputs": [
    {
     "data": {
      "image/png": "[encoded data removed]",
      "text/plain": [
       "<Figure size 432x288 with 1 Axes>"
      ]
     },
     "metadata": {
      "needs_background": "light"
     },
     "output_type": "display_data"
    }
   ],
   "source": [
    "sns.boxplot(data=train, x='fips', y='logerror')\n",
    "plt.title('Relationship between logerror and counties')\n",
    "plt.show()"
   ]
  },
  {
   "cell_type": "code",
   "execution_count": 56,
   "id": "aa44e827-b8ab-4a56-baee-7f86f7963306",
   "metadata": {},
   "outputs": [
    {
     "data": {
      "image/png": "[encoded data removed]",
      "text/plain": [
       "<Figure size 432x288 with 1 Axes>"
      ]
     },
     "metadata": {
      "needs_background": "light"
     },
     "output_type": "display_data"
    }
   ],
   "source": [
    "sns.barplot(data=train, x='fips', y='logerror')\n",
    "plt.title('Relationship between logerror and counties')\n",
    "plt.show()"
   ]
  },
  {
   "cell_type": "markdown",
   "id": "4d1880b0-9d0a-4575-b3a7-3ab2e3815b35",
   "metadata": {},
   "source": [
    "H0: logerror means of the three counties, Los Angeles, Orange & Ventura, are all equal.\n",
    "\n",
    "Ha: logerror means of the three counties, Los Angeles, Orange & Ventura, are NOT equal.\n",
    "\n",
    "alpha = 0.05"
   ]
  },
  {
   "cell_type": "code",
   "execution_count": 57,
   "id": "ae7f0444-d396-427f-a450-8abc6408e112",
   "metadata": {},
   "outputs": [
    {
     "data": {
      "text/plain": [
       "(5.733621747850393, 0.0032412429565147546)"
      ]
     },
     "execution_count": 57,
     "metadata": {},
     "output_type": "execute_result"
    }
   ],
   "source": [
    "f,p = stats.f_oneway(train.logerror[train.fips == 'la'], train.logerror[train.fips == 'orange'], train.logerror[train.fips == 'ventura'])\n",
    "f,p\n",
    "                     "
   ]
  },
  {
   "cell_type": "markdown",
   "id": "a2c7084b-56c3-485b-8070-9345f9316fb1",
   "metadata": {},
   "source": [
    "We were able to reject the null hypothesis"
   ]
  },
  {
   "cell_type": "markdown",
   "id": "f3014d87-eac8-466f-89c1-8b96aba46ad5",
   "metadata": {},
   "source": [
    "## Is there a relationship between Lotsizesquarefeet and logerror?"
   ]
  },
  {
   "cell_type": "code",
   "execution_count": 60,
   "id": "5171a2f5-87e8-42ee-99af-d4aa813f4fee",
   "metadata": {},
   "outputs": [
    {
     "data": {
      "image/png": "[encoded data removed]",
      "text/plain": [
       "<Figure size 432x288 with 1 Axes>"
      ]
     },
     "metadata": {
      "needs_background": "light"
     },
     "output_type": "display_data"
    }
   ],
   "source": [
    "sns.scatterplot(data=train, x='lotsizesquarefeet', y='logerror')\n",
    "plt.title('Relationship between logerror and area')\n",
    "plt.xlabel('area')\n",
    "plt.show()"
   ]
  },
  {
   "cell_type": "markdown",
   "id": "9f81618f-36c7-49b1-a1ff-20ad37921e82",
   "metadata": {},
   "source": [
    "H0: There is no linear correlation between the logerror and lotsizesquarefeet.\n",
    "\n",
    "Ha: There is a linear correlation between the logerror and lotsizesquarefeet.\n",
    "\n",
    "alpha = 0.05"
   ]
  },
  {
   "cell_type": "code",
   "execution_count": 61,
   "id": "3a89a7f7-a333-4435-b0c4-ae43db14b9ab",
   "metadata": {},
   "outputs": [
    {
     "data": {
      "text/plain": [
       "(-0.004768236802657255, 0.5220884507535047)"
      ]
     },
     "execution_count": 61,
     "metadata": {},
     "output_type": "execute_result"
    }
   ],
   "source": [
    "r, p = stats.pearsonr(train.lotsizesquarefeet, train.logerror)\n",
    "r, p"
   ]
  },
  {
   "cell_type": "markdown",
   "id": "9de369d0-7178-41c0-b83e-c64555541ef9",
   "metadata": {},
   "source": [
    "We failed to reject the null hypothesis"
   ]
  },
  {
   "cell_type": "markdown",
   "id": "854a6159-9f73-46de-b756-9c473d399e23",
   "metadata": {},
   "source": [
    "## Is there a relationship between yearbuilt and logerror?"
   ]
  },
  {
   "cell_type": "code",
   "execution_count": 62,
   "id": "af143954-87ae-4042-9e13-c06c1ab0b2cd",
   "metadata": {},
   "outputs": [
    {
     "data": {
      "image/png": "[encoded data removed]",
      "text/plain": [
       "<Figure size 432x288 with 1 Axes>"
      ]
     },
     "metadata": {
      "needs_background": "light"
     },
     "output_type": "display_data"
    }
   ],
   "source": [
    "sns.scatterplot(data=train, x='yearbuilt', y='logerror')\n",
    "plt.title('Relationship between logerror and year built')\n",
    "plt.show()"
   ]
  },
  {
   "cell_type": "code",
   "execution_count": 63,
   "id": "91620b41-fc29-4e23-88b0-0eec1f3b9998",
   "metadata": {},
   "outputs": [
    {
     "data": {
      "text/plain": [
       "1955.0    806\n",
       "1950.0    732\n",
       "1953.0    684\n",
       "1954.0    655\n",
       "1956.0    573\n",
       "         ... \n",
       "2011.0     11\n",
       "2015.0      8\n",
       "2010.0      7\n",
       "2008.0      6\n",
       "2009.0      6\n",
       "Name: yearbuilt, Length: 101, dtype: int64"
      ]
     },
     "execution_count": 63,
     "metadata": {},
     "output_type": "execute_result"
    }
   ],
   "source": [
    "train.yearbuilt.value_counts()"
   ]
  },
  {
   "cell_type": "markdown",
   "id": "54fc8721-5edf-4458-a7d5-47c812dd22b7",
   "metadata": {},
   "source": [
    "H0: There is no linear correlation between the logerror and yearbuilt.\n",
    "\n",
    "Ha: There is a linear correlation between the logerror and yearbuilt.\n",
    "\n",
    "alpha = 0.05"
   ]
  },
  {
   "cell_type": "code",
   "execution_count": 66,
   "id": "2dd888d9-c15a-4295-922a-79e65badf968",
   "metadata": {},
   "outputs": [
    {
     "data": {
      "text/plain": [
       "(0.019048599304799414, 0.010543769195033505)"
      ]
     },
     "execution_count": 66,
     "metadata": {},
     "output_type": "execute_result"
    }
   ],
   "source": [
    "r, p = stats.pearsonr(train.yearbuilt, train.logerror)\n",
    "r, p"
   ]
  },
  {
   "cell_type": "markdown",
   "id": "6f8085e5-0bee-426b-aa40-ef452c02a69a",
   "metadata": {},
   "source": [
    "We were able to reject the null hypothesis!"
   ]
  },
  {
   "cell_type": "markdown",
   "id": "44d7afcf-f559-4c53-afb1-8a9af15c3e24",
   "metadata": {},
   "source": [
    "## Is there a relationship between bedrooms and logerror?"
   ]
  },
  {
   "cell_type": "code",
   "execution_count": 71,
   "id": "6d319fe9-4c0e-4017-8804-66d2b8ab67f6",
   "metadata": {},
   "outputs": [
    {
     "data": {
      "image/png": "[encoded data removed]",
      "text/plain": [
       "<Figure size 432x288 with 1 Axes>"
      ]
     },
     "metadata": {
      "needs_background": "light"
     },
     "output_type": "display_data"
    }
   ],
   "source": [
    "sns.barplot(data=train, x=train.bedroomcnt, y=train.logerror)\n",
    "plt.title('Relationship between logerror and bedrooms')\n",
    "plt.show()"
   ]
  },
  {
   "cell_type": "code",
   "execution_count": 69,
   "id": "d254ffe4-5f20-416d-b789-ffc5fb5e3e8b",
   "metadata": {},
   "outputs": [
    {
     "data": {
      "text/plain": [
       "3.0    8897\n",
       "4.0    4605\n",
       "2.0    3552\n",
       "5.0     678\n",
       "1.0     216\n",
       "6.0      65\n",
       "7.0       8\n",
       "0.0       3\n",
       "9.0       1\n",
       "Name: bedroomcnt, dtype: int64"
      ]
     },
     "execution_count": 69,
     "metadata": {},
     "output_type": "execute_result"
    }
   ],
   "source": [
    "train.bedroomcnt.value_counts()"
   ]
  },
  {
   "cell_type": "code",
   "execution_count": 72,
   "id": "fa9b4515-24b4-4204-ab54-5bb6b31c6a5d",
   "metadata": {},
   "outputs": [
    {
     "data": {
      "text/plain": [
       "3.0"
      ]
     },
     "execution_count": 72,
     "metadata": {},
     "output_type": "execute_result"
    }
   ],
   "source": [
    "train.bedroomcnt.median()"
   ]
  },
  {
   "cell_type": "code",
   "execution_count": 83,
   "id": "a08189a5-c9df-463a-b1a8-33be11e12384",
   "metadata": {},
   "outputs": [
    {
     "data": {
      "text/html": [
       "<div>\n",
       "<style scoped>\n",
       "    .dataframe tbody tr th:only-of-type {\n",
       "        vertical-align: middle;\n",
       "    }\n",
       "\n",
       "    .dataframe tbody tr th {\n",
       "        vertical-align: top;\n",
       "    }\n",
       "\n",
       "    .dataframe thead th {\n",
       "        text-align: right;\n",
       "    }\n",
       "</style>\n",
       "<table border=\"1\" class=\"dataframe\">\n",
       "  <thead>\n",
       "    <tr style=\"text-align: right;\">\n",
       "      <th></th>\n",
       "      <th>propertylandusetypeid</th>\n",
       "      <th>parcelid</th>\n",
       "      <th>id</th>\n",
       "      <th>logerror</th>\n",
       "      <th>transactiondate</th>\n",
       "      <th>id.1</th>\n",
       "      <th>bathroomcnt</th>\n",
       "      <th>bedroomcnt</th>\n",
       "      <th>calculatedbathnbr</th>\n",
       "      <th>calculatedfinishedsquarefeet</th>\n",
       "      <th>...</th>\n",
       "      <th>yearbuilt</th>\n",
       "      <th>structuretaxvaluedollarcnt</th>\n",
       "      <th>taxvaluedollarcnt</th>\n",
       "      <th>assessmentyear</th>\n",
       "      <th>landtaxvaluedollarcnt</th>\n",
       "      <th>taxamount</th>\n",
       "      <th>censustractandblock</th>\n",
       "      <th>propertylandusedesc</th>\n",
       "      <th>bed_bin</th>\n",
       "      <th>bath_bin</th>\n",
       "    </tr>\n",
       "  </thead>\n",
       "  <tbody>\n",
       "    <tr>\n",
       "      <th>42454</th>\n",
       "      <td>261.0</td>\n",
       "      <td>12921253</td>\n",
       "      <td>62775</td>\n",
       "      <td>0.009074</td>\n",
       "      <td>2017-07-31</td>\n",
       "      <td>322622</td>\n",
       "      <td>3.0</td>\n",
       "      <td>3.0</td>\n",
       "      <td>3.0</td>\n",
       "      <td>1755.0</td>\n",
       "      <td>...</td>\n",
       "      <td>1958.0</td>\n",
       "      <td>135230.0</td>\n",
       "      <td>447300.0</td>\n",
       "      <td>2016.0</td>\n",
       "      <td>312070.0</td>\n",
       "      <td>5349.64</td>\n",
       "      <td>6.037404e+13</td>\n",
       "      <td>Single Family Residential</td>\n",
       "      <td>3_and_under</td>\n",
       "      <td>over_2</td>\n",
       "    </tr>\n",
       "    <tr>\n",
       "      <th>23911</th>\n",
       "      <td>261.0</td>\n",
       "      <td>14370394</td>\n",
       "      <td>35549</td>\n",
       "      <td>-0.010220</td>\n",
       "      <td>2017-05-12</td>\n",
       "      <td>131578</td>\n",
       "      <td>2.5</td>\n",
       "      <td>3.0</td>\n",
       "      <td>2.5</td>\n",
       "      <td>1389.0</td>\n",
       "      <td>...</td>\n",
       "      <td>1986.0</td>\n",
       "      <td>145498.0</td>\n",
       "      <td>538144.0</td>\n",
       "      <td>2016.0</td>\n",
       "      <td>392646.0</td>\n",
       "      <td>5601.46</td>\n",
       "      <td>6.059052e+13</td>\n",
       "      <td>Single Family Residential</td>\n",
       "      <td>3_and_under</td>\n",
       "      <td>over_2</td>\n",
       "    </tr>\n",
       "    <tr>\n",
       "      <th>12118</th>\n",
       "      <td>261.0</td>\n",
       "      <td>10856776</td>\n",
       "      <td>18032</td>\n",
       "      <td>-0.013670</td>\n",
       "      <td>2017-03-17</td>\n",
       "      <td>568624</td>\n",
       "      <td>2.0</td>\n",
       "      <td>2.0</td>\n",
       "      <td>2.0</td>\n",
       "      <td>1518.0</td>\n",
       "      <td>...</td>\n",
       "      <td>1941.0</td>\n",
       "      <td>72700.0</td>\n",
       "      <td>363524.0</td>\n",
       "      <td>2016.0</td>\n",
       "      <td>290824.0</td>\n",
       "      <td>4394.03</td>\n",
       "      <td>6.037141e+13</td>\n",
       "      <td>Single Family Residential</td>\n",
       "      <td>3_and_under</td>\n",
       "      <td>2_and_under</td>\n",
       "    </tr>\n",
       "    <tr>\n",
       "      <th>6480</th>\n",
       "      <td>261.0</td>\n",
       "      <td>14130828</td>\n",
       "      <td>9662</td>\n",
       "      <td>-0.004964</td>\n",
       "      <td>2017-02-14</td>\n",
       "      <td>369533</td>\n",
       "      <td>2.0</td>\n",
       "      <td>2.0</td>\n",
       "      <td>2.0</td>\n",
       "      <td>1621.0</td>\n",
       "      <td>...</td>\n",
       "      <td>1977.0</td>\n",
       "      <td>66557.0</td>\n",
       "      <td>91804.0</td>\n",
       "      <td>2016.0</td>\n",
       "      <td>25247.0</td>\n",
       "      <td>1293.60</td>\n",
       "      <td>6.059087e+13</td>\n",
       "      <td>Single Family Residential</td>\n",
       "      <td>3_and_under</td>\n",
       "      <td>2_and_under</td>\n",
       "    </tr>\n",
       "    <tr>\n",
       "      <th>27104</th>\n",
       "      <td>261.0</td>\n",
       "      <td>12197798</td>\n",
       "      <td>40213</td>\n",
       "      <td>0.013592</td>\n",
       "      <td>2017-05-26</td>\n",
       "      <td>543576</td>\n",
       "      <td>2.0</td>\n",
       "      <td>2.0</td>\n",
       "      <td>2.0</td>\n",
       "      <td>883.0</td>\n",
       "      <td>...</td>\n",
       "      <td>1923.0</td>\n",
       "      <td>10121.0</td>\n",
       "      <td>21071.0</td>\n",
       "      <td>2016.0</td>\n",
       "      <td>10950.0</td>\n",
       "      <td>319.99</td>\n",
       "      <td>6.037240e+13</td>\n",
       "      <td>Single Family Residential</td>\n",
       "      <td>3_and_under</td>\n",
       "      <td>2_and_under</td>\n",
       "    </tr>\n",
       "  </tbody>\n",
       "</table>\n",
       "<p>5 rows × 32 columns</p>\n",
       "</div>"
      ],
      "text/plain": [
       "       propertylandusetypeid  parcelid     id  logerror transactiondate  \\\n",
       "42454                  261.0  12921253  62775  0.009074      2017-07-31   \n",
       "23911                  261.0  14370394  35549 -0.010220      2017-05-12   \n",
       "12118                  261.0  10856776  18032 -0.013670      2017-03-17   \n",
       "6480                   261.0  14130828   9662 -0.004964      2017-02-14   \n",
       "27104                  261.0  12197798  40213  0.013592      2017-05-26   \n",
       "\n",
       "         id.1  bathroomcnt  bedroomcnt  calculatedbathnbr  \\\n",
       "42454  322622          3.0         3.0                3.0   \n",
       "23911  131578          2.5         3.0                2.5   \n",
       "12118  568624          2.0         2.0                2.0   \n",
       "6480   369533          2.0         2.0                2.0   \n",
       "27104  543576          2.0         2.0                2.0   \n",
       "\n",
       "       calculatedfinishedsquarefeet  ...  yearbuilt  \\\n",
       "42454                        1755.0  ...     1958.0   \n",
       "23911                        1389.0  ...     1986.0   \n",
       "12118                        1518.0  ...     1941.0   \n",
       "6480                         1621.0  ...     1977.0   \n",
       "27104                         883.0  ...     1923.0   \n",
       "\n",
       "      structuretaxvaluedollarcnt  taxvaluedollarcnt  assessmentyear  \\\n",
       "42454                   135230.0           447300.0          2016.0   \n",
       "23911                   145498.0           538144.0          2016.0   \n",
       "12118                    72700.0           363524.0          2016.0   \n",
       "6480                     66557.0            91804.0          2016.0   \n",
       "27104                    10121.0            21071.0          2016.0   \n",
       "\n",
       "       landtaxvaluedollarcnt  taxamount censustractandblock  \\\n",
       "42454               312070.0    5349.64        6.037404e+13   \n",
       "23911               392646.0    5601.46        6.059052e+13   \n",
       "12118               290824.0    4394.03        6.037141e+13   \n",
       "6480                 25247.0    1293.60        6.059087e+13   \n",
       "27104                10950.0     319.99        6.037240e+13   \n",
       "\n",
       "             propertylandusedesc      bed_bin     bath_bin  \n",
       "42454  Single Family Residential  3_and_under       over_2  \n",
       "23911  Single Family Residential  3_and_under       over_2  \n",
       "12118  Single Family Residential  3_and_under  2_and_under  \n",
       "6480   Single Family Residential  3_and_under  2_and_under  \n",
       "27104  Single Family Residential  3_and_under  2_and_under  \n",
       "\n",
       "[5 rows x 32 columns]"
      ]
     },
     "execution_count": 83,
     "metadata": {},
     "output_type": "execute_result"
    }
   ],
   "source": [
    "train['bed_bin'] = pd.cut(train.bedroomcnt, [0,3,9], labels=['3_and_under','over_3'])\n",
    "train.head()"
   ]
  },
  {
   "cell_type": "code",
   "execution_count": 74,
   "id": "b46d4077-bdde-4c44-b503-3f90caa2e5a9",
   "metadata": {},
   "outputs": [
    {
     "data": {
      "text/plain": [
       "3_and_under    12665\n",
       "over_3          5357\n",
       "Name: bed_bin, dtype: int64"
      ]
     },
     "execution_count": 74,
     "metadata": {},
     "output_type": "execute_result"
    }
   ],
   "source": [
    "train.bed_bin.value_counts()"
   ]
  },
  {
   "cell_type": "markdown",
   "id": "4f7537d3-fef7-4773-a2b0-a732a2a2fda9",
   "metadata": {},
   "source": [
    "H0: There is no significant difference between logerror and bedrooms.\n",
    "\n",
    "Ha: There is a signficant difference between the logerror and bedrooms.\n",
    "\n",
    "alpha = 0.05"
   ]
  },
  {
   "cell_type": "code",
   "execution_count": 75,
   "id": "ce48bf62-b173-4d9e-83bc-95f76dc53654",
   "metadata": {},
   "outputs": [
    {
     "data": {
      "text/plain": [
       "LeveneResult(statistic=13.720276917936987, pvalue=0.0002127852200176397)"
      ]
     },
     "execution_count": 75,
     "metadata": {},
     "output_type": "execute_result"
    }
   ],
   "source": [
    "stats.levene(train.logerror[train.bed_bin == '3_and_under'],\n",
    "             train.logerror[train.bed_bin == 'over_3'])"
   ]
  },
  {
   "cell_type": "code",
   "execution_count": 77,
   "id": "536d0f15-79f2-4792-9e9b-532d6f748cf8",
   "metadata": {},
   "outputs": [
    {
     "data": {
      "text/plain": [
       "(-3.190257758249912, 0.0014262270385992572)"
      ]
     },
     "execution_count": 77,
     "metadata": {},
     "output_type": "execute_result"
    }
   ],
   "source": [
    "t, p = stats.ttest_ind(train.logerror[train.bed_bin == '3_and_under'],\n",
    "             train.logerror[train.bed_bin == 'over_3'],\n",
    "               equal_var=False)\n",
    "t, p"
   ]
  },
  {
   "cell_type": "markdown",
   "id": "7164d14c-87c1-4b47-8eee-bd59fe2b7fb7",
   "metadata": {},
   "source": [
    "We were able to reject the null hypothesis!"
   ]
  },
  {
   "cell_type": "markdown",
   "id": "59a82bd5-ee17-44c1-8759-8a593a44ce7b",
   "metadata": {},
   "source": [
    "## Is there a relationship between bathrooms and logerror?"
   ]
  },
  {
   "cell_type": "code",
   "execution_count": 78,
   "id": "95b70f3d-3348-493c-8ae3-4e549ea31e83",
   "metadata": {},
   "outputs": [
    {
     "data": {
      "image/png": "[encoded data removed]",
      "text/plain": [
       "<Figure size 432x288 with 1 Axes>"
      ]
     },
     "metadata": {
      "needs_background": "light"
     },
     "output_type": "display_data"
    }
   ],
   "source": [
    "sns.boxplot(data=train, x=train.bathroomcnt, y=train.logerror)\n",
    "plt.title('Relationship between logerror and bathrooms')\n",
    "plt.show()"
   ]
  },
  {
   "cell_type": "code",
   "execution_count": 79,
   "id": "40e2d31f-86ac-4b9e-b3d3-8084c6a9be7f",
   "metadata": {},
   "outputs": [
    {
     "data": {
      "image/png": "[encoded data removed]",
      "text/plain": [
       "<Figure size 432x288 with 1 Axes>"
      ]
     },
     "metadata": {
      "needs_background": "light"
     },
     "output_type": "display_data"
    }
   ],
   "source": [
    "sns.barplot(data=train, x=train.bathroomcnt, y=train.logerror)\n",
    "plt.title('Relationship between logerror and bathrooms')\n",
    "plt.show()"
   ]
  },
  {
   "cell_type": "code",
   "execution_count": 80,
   "id": "fdac6d32-ef20-46c2-b3ec-0101ff04c7fc",
   "metadata": {},
   "outputs": [
    {
     "data": {
      "text/plain": [
       "2.0"
      ]
     },
     "execution_count": 80,
     "metadata": {},
     "output_type": "execute_result"
    }
   ],
   "source": [
    "train.bathroomcnt.median()"
   ]
  },
  {
   "cell_type": "code",
   "execution_count": 84,
   "id": "d8bc344a-8b28-4826-be7d-44a380b332ff",
   "metadata": {},
   "outputs": [
    {
     "data": {
      "text/html": [
       "<div>\n",
       "<style scoped>\n",
       "    .dataframe tbody tr th:only-of-type {\n",
       "        vertical-align: middle;\n",
       "    }\n",
       "\n",
       "    .dataframe tbody tr th {\n",
       "        vertical-align: top;\n",
       "    }\n",
       "\n",
       "    .dataframe thead th {\n",
       "        text-align: right;\n",
       "    }\n",
       "</style>\n",
       "<table border=\"1\" class=\"dataframe\">\n",
       "  <thead>\n",
       "    <tr style=\"text-align: right;\">\n",
       "      <th></th>\n",
       "      <th>propertylandusetypeid</th>\n",
       "      <th>parcelid</th>\n",
       "      <th>id</th>\n",
       "      <th>logerror</th>\n",
       "      <th>transactiondate</th>\n",
       "      <th>id.1</th>\n",
       "      <th>bathroomcnt</th>\n",
       "      <th>bedroomcnt</th>\n",
       "      <th>calculatedbathnbr</th>\n",
       "      <th>calculatedfinishedsquarefeet</th>\n",
       "      <th>...</th>\n",
       "      <th>yearbuilt</th>\n",
       "      <th>structuretaxvaluedollarcnt</th>\n",
       "      <th>taxvaluedollarcnt</th>\n",
       "      <th>assessmentyear</th>\n",
       "      <th>landtaxvaluedollarcnt</th>\n",
       "      <th>taxamount</th>\n",
       "      <th>censustractandblock</th>\n",
       "      <th>propertylandusedesc</th>\n",
       "      <th>bed_bin</th>\n",
       "      <th>bath_bin</th>\n",
       "    </tr>\n",
       "  </thead>\n",
       "  <tbody>\n",
       "    <tr>\n",
       "      <th>42454</th>\n",
       "      <td>261.0</td>\n",
       "      <td>12921253</td>\n",
       "      <td>62775</td>\n",
       "      <td>0.009074</td>\n",
       "      <td>2017-07-31</td>\n",
       "      <td>322622</td>\n",
       "      <td>3.0</td>\n",
       "      <td>3.0</td>\n",
       "      <td>3.0</td>\n",
       "      <td>1755.0</td>\n",
       "      <td>...</td>\n",
       "      <td>1958.0</td>\n",
       "      <td>135230.0</td>\n",
       "      <td>447300.0</td>\n",
       "      <td>2016.0</td>\n",
       "      <td>312070.0</td>\n",
       "      <td>5349.64</td>\n",
       "      <td>6.037404e+13</td>\n",
       "      <td>Single Family Residential</td>\n",
       "      <td>3_and_under</td>\n",
       "      <td>over_2</td>\n",
       "    </tr>\n",
       "    <tr>\n",
       "      <th>23911</th>\n",
       "      <td>261.0</td>\n",
       "      <td>14370394</td>\n",
       "      <td>35549</td>\n",
       "      <td>-0.010220</td>\n",
       "      <td>2017-05-12</td>\n",
       "      <td>131578</td>\n",
       "      <td>2.5</td>\n",
       "      <td>3.0</td>\n",
       "      <td>2.5</td>\n",
       "      <td>1389.0</td>\n",
       "      <td>...</td>\n",
       "      <td>1986.0</td>\n",
       "      <td>145498.0</td>\n",
       "      <td>538144.0</td>\n",
       "      <td>2016.0</td>\n",
       "      <td>392646.0</td>\n",
       "      <td>5601.46</td>\n",
       "      <td>6.059052e+13</td>\n",
       "      <td>Single Family Residential</td>\n",
       "      <td>3_and_under</td>\n",
       "      <td>over_2</td>\n",
       "    </tr>\n",
       "    <tr>\n",
       "      <th>12118</th>\n",
       "      <td>261.0</td>\n",
       "      <td>10856776</td>\n",
       "      <td>18032</td>\n",
       "      <td>-0.013670</td>\n",
       "      <td>2017-03-17</td>\n",
       "      <td>568624</td>\n",
       "      <td>2.0</td>\n",
       "      <td>2.0</td>\n",
       "      <td>2.0</td>\n",
       "      <td>1518.0</td>\n",
       "      <td>...</td>\n",
       "      <td>1941.0</td>\n",
       "      <td>72700.0</td>\n",
       "      <td>363524.0</td>\n",
       "      <td>2016.0</td>\n",
       "      <td>290824.0</td>\n",
       "      <td>4394.03</td>\n",
       "      <td>6.037141e+13</td>\n",
       "      <td>Single Family Residential</td>\n",
       "      <td>3_and_under</td>\n",
       "      <td>2_and_under</td>\n",
       "    </tr>\n",
       "    <tr>\n",
       "      <th>6480</th>\n",
       "      <td>261.0</td>\n",
       "      <td>14130828</td>\n",
       "      <td>9662</td>\n",
       "      <td>-0.004964</td>\n",
       "      <td>2017-02-14</td>\n",
       "      <td>369533</td>\n",
       "      <td>2.0</td>\n",
       "      <td>2.0</td>\n",
       "      <td>2.0</td>\n",
       "      <td>1621.0</td>\n",
       "      <td>...</td>\n",
       "      <td>1977.0</td>\n",
       "      <td>66557.0</td>\n",
       "      <td>91804.0</td>\n",
       "      <td>2016.0</td>\n",
       "      <td>25247.0</td>\n",
       "      <td>1293.60</td>\n",
       "      <td>6.059087e+13</td>\n",
       "      <td>Single Family Residential</td>\n",
       "      <td>3_and_under</td>\n",
       "      <td>2_and_under</td>\n",
       "    </tr>\n",
       "    <tr>\n",
       "      <th>27104</th>\n",
       "      <td>261.0</td>\n",
       "      <td>12197798</td>\n",
       "      <td>40213</td>\n",
       "      <td>0.013592</td>\n",
       "      <td>2017-05-26</td>\n",
       "      <td>543576</td>\n",
       "      <td>2.0</td>\n",
       "      <td>2.0</td>\n",
       "      <td>2.0</td>\n",
       "      <td>883.0</td>\n",
       "      <td>...</td>\n",
       "      <td>1923.0</td>\n",
       "      <td>10121.0</td>\n",
       "      <td>21071.0</td>\n",
       "      <td>2016.0</td>\n",
       "      <td>10950.0</td>\n",
       "      <td>319.99</td>\n",
       "      <td>6.037240e+13</td>\n",
       "      <td>Single Family Residential</td>\n",
       "      <td>3_and_under</td>\n",
       "      <td>2_and_under</td>\n",
       "    </tr>\n",
       "  </tbody>\n",
       "</table>\n",
       "<p>5 rows × 32 columns</p>\n",
       "</div>"
      ],
      "text/plain": [
       "       propertylandusetypeid  parcelid     id  logerror transactiondate  \\\n",
       "42454                  261.0  12921253  62775  0.009074      2017-07-31   \n",
       "23911                  261.0  14370394  35549 -0.010220      2017-05-12   \n",
       "12118                  261.0  10856776  18032 -0.013670      2017-03-17   \n",
       "6480                   261.0  14130828   9662 -0.004964      2017-02-14   \n",
       "27104                  261.0  12197798  40213  0.013592      2017-05-26   \n",
       "\n",
       "         id.1  bathroomcnt  bedroomcnt  calculatedbathnbr  \\\n",
       "42454  322622          3.0         3.0                3.0   \n",
       "23911  131578          2.5         3.0                2.5   \n",
       "12118  568624          2.0         2.0                2.0   \n",
       "6480   369533          2.0         2.0                2.0   \n",
       "27104  543576          2.0         2.0                2.0   \n",
       "\n",
       "       calculatedfinishedsquarefeet  ...  yearbuilt  \\\n",
       "42454                        1755.0  ...     1958.0   \n",
       "23911                        1389.0  ...     1986.0   \n",
       "12118                        1518.0  ...     1941.0   \n",
       "6480                         1621.0  ...     1977.0   \n",
       "27104                         883.0  ...     1923.0   \n",
       "\n",
       "      structuretaxvaluedollarcnt  taxvaluedollarcnt  assessmentyear  \\\n",
       "42454                   135230.0           447300.0          2016.0   \n",
       "23911                   145498.0           538144.0          2016.0   \n",
       "12118                    72700.0           363524.0          2016.0   \n",
       "6480                     66557.0            91804.0          2016.0   \n",
       "27104                    10121.0            21071.0          2016.0   \n",
       "\n",
       "       landtaxvaluedollarcnt  taxamount censustractandblock  \\\n",
       "42454               312070.0    5349.64        6.037404e+13   \n",
       "23911               392646.0    5601.46        6.059052e+13   \n",
       "12118               290824.0    4394.03        6.037141e+13   \n",
       "6480                 25247.0    1293.60        6.059087e+13   \n",
       "27104                10950.0     319.99        6.037240e+13   \n",
       "\n",
       "             propertylandusedesc      bed_bin     bath_bin  \n",
       "42454  Single Family Residential  3_and_under       over_2  \n",
       "23911  Single Family Residential  3_and_under       over_2  \n",
       "12118  Single Family Residential  3_and_under  2_and_under  \n",
       "6480   Single Family Residential  3_and_under  2_and_under  \n",
       "27104  Single Family Residential  3_and_under  2_and_under  \n",
       "\n",
       "[5 rows x 32 columns]"
      ]
     },
     "execution_count": 84,
     "metadata": {},
     "output_type": "execute_result"
    }
   ],
   "source": [
    "train['bath_bin'] = pd.cut(train.bathroomcnt, [0,2,4], labels=['2_and_under','over_2'])\n",
    "train.head()"
   ]
  },
  {
   "cell_type": "markdown",
   "id": "90389da3-d385-42b8-a58d-27d4573d5fee",
   "metadata": {},
   "source": [
    "H0: There is no significant difference between logerror and bathrooms.\n",
    "\n",
    "Ha: There is a signficant difference between the logerror and bathrooms.\n",
    "\n",
    "alpha = 0.05"
   ]
  },
  {
   "cell_type": "code",
   "execution_count": 85,
   "id": "1c25f31e-b8d8-497a-a381-42ff413ba476",
   "metadata": {},
   "outputs": [
    {
     "data": {
      "text/plain": [
       "LeveneResult(statistic=39.67721415548131, pvalue=3.065385592696958e-10)"
      ]
     },
     "execution_count": 85,
     "metadata": {},
     "output_type": "execute_result"
    }
   ],
   "source": [
    "stats.levene(train.logerror[train.bath_bin == '2_and_under'],\n",
    "             train.logerror[train.bath_bin == 'over_2'])"
   ]
  },
  {
   "cell_type": "code",
   "execution_count": 86,
   "id": "739dd8aa-218f-4495-818a-cb47b838fdeb",
   "metadata": {},
   "outputs": [
    {
     "data": {
      "text/plain": [
       "(-2.0305587476177096, 0.04232949604022008)"
      ]
     },
     "execution_count": 86,
     "metadata": {},
     "output_type": "execute_result"
    }
   ],
   "source": [
    "t, p = stats.ttest_ind(train.logerror[train.bath_bin == '2_and_under'],\n",
    "             train.logerror[train.bath_bin == 'over_2'],\n",
    "               equal_var=False)\n",
    "t, p"
   ]
  },
  {
   "cell_type": "markdown",
   "id": "ad8a2487-e90f-4245-ae25-086508e91937",
   "metadata": {},
   "source": [
    "We were able to reject the null hypothesis"
   ]
  },
  {
   "cell_type": "code",
   "execution_count": null,
   "id": "41a357ee-c534-4305-b664-76109904b3a3",
   "metadata": {},
   "outputs": [],
   "source": []
  }
 ],
 "metadata": {
  "kernelspec": {
   "display_name": "Python 3 (ipykernel)",
   "language": "python",
   "name": "python3"
  },
  "language_info": {
   "codemirror_mode": {
    "name": "ipython",
    "version": 3
   },
   "file_extension": ".py",
   "mimetype": "text/x-python",
   "name": "python",
   "nbconvert_exporter": "python",
   "pygments_lexer": "ipython3",
   "version": "3.9.12"
  }
 },
 "nbformat": 4,
 "nbformat_minor": 5
}
